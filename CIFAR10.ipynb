{
 "cells": [
  {
   "cell_type": "markdown",
   "metadata": {},
   "source": [
    "# Cifar 10 and K Nearest Neighbour testing\n",
    "\n",
    "This is a visual view of the data we obtain from calculating the K Nearest Neighbour for the Cifar 10 challenge."
   ]
  },
  {
   "cell_type": "code",
   "execution_count": 2,
   "metadata": {
    "collapsed": true
   },
   "outputs": [],
   "source": [
    "import numpy as np\n",
    "import matplotlib.pylab as pl\n",
    "import matplotlib.pyplot as plt\n",
    "import _pickle as pickle\n",
    "import os\n",
    "import scipy\n",
    "from knn import NearestNeighbour\n",
    "%matplotlib inline"
   ]
  },
  {
   "cell_type": "code",
   "execution_count": 3,
   "metadata": {
    "collapsed": true
   },
   "outputs": [],
   "source": [
    "def load_CIFAR_batch(file):\n",
    "    \"\"\" load single batch of cifar\"\"\"\n",
    "    with open(file, 'rb') as f:\n",
    "        datadict = pickle.load(f, encoding = 'latin1')\n",
    "        X = datadict['data']\n",
    "        Y = datadict['labels']\n",
    "        X = X.reshape(10000,3,32,32).transpose(0,2,3,1).astype(\"float\")\n",
    "        Y = np.array(Y)\n",
    "    return X, Y\n",
    "\n",
    "def load_CIFAR10(ROOT):\n",
    "    \"\"\" load all of cifar \"\"\"\n",
    "    xs = []\n",
    "    ys = []\n",
    "    for i in range(1,2):\n",
    "        f = os.path.join(ROOT, 'data_batch_%d' % (i, ))\n",
    "        X, Y = load_CIFAR_batch(f)\n",
    "        xs.append(X)\n",
    "        ys.append(Y)\n",
    "    Xtr = np.concatenate(xs)\n",
    "    Ytr = np.concatenate(ys)\n",
    "    del X,Y\n",
    "    \"\"\"\n",
    "    Xtr, Ytr = training data\n",
    "    Xte, Yte = testing data\n",
    "    \"\"\"\n",
    "    Xte, Yte = load_CIFAR_batch(os.path.join(ROOT, 'test_batch'))\n",
    "    return Xtr, Ytr, Xte, Yte\n"
   ]
  },
  {
   "cell_type": "code",
   "execution_count": 4,
   "metadata": {
    "collapsed": true
   },
   "outputs": [],
   "source": [
    "def run_knn():\n",
    "    Xtr, Ytr, Xte, Yte = load_CIFAR10('cifar-10-batches-py')\n",
    "    \n",
    "    # flattens out all images to be one dimensional\n",
    "    Xtr_rows = Xtr.reshape(Xtr.shape[0], 32 * 32 * 3) # Xtr_rows become 50000x 3072\n",
    "    Xte_rows = Xte.reshape(Xte.shape[0], 32 * 32 * 3) # Xtr_rows become 10000x 3072\n",
    "\n",
    "    # assume we have Xtr_rows, Ytr, Xte_rows, Yte as before\n",
    "    # recall Xtr_rows is 50,000 x 3072 matrix\n",
    "    # Xval_rows = Xtr_rows[:1000, :] # take first 1000 for validation\n",
    "    # Yval = Ytr[:1000]\n",
    "    # Xtr_rows = Xtr_rows[1000:,:] # keep last 49,000 for train\n",
    "    # Ytr = Ytr[1000:]\n",
    "\n",
    "    validation_accuracies = []\n",
    "    for k in [1]:\n",
    "        nn = NearestNeighbour() # create a Nearest Neighbor classifier class\n",
    "        nn.train(Xtr_rows, Ytr) # train the classifier on the training images and labels\n",
    "        Yte_predict = nn.predict(Xte_rows, k) # predict labels on the test images\n",
    "        # and now print the classification accuracy, which is the average number\n",
    "        # of examples that are correctly predicted (i.e label matches)\n",
    "        acc = np.mean(Yte_predict == Yte)\n",
    "        print ( 'K-NN %d' % (k))\n",
    "        print ( 'accuracy: %f' % (acc))\n",
    "\n",
    "        validation_accuracies.append((k, acc))"
   ]
  },
  {
   "cell_type": "code",
   "execution_count": null,
   "metadata": {
    "collapsed": true
   },
   "outputs": [],
   "source": [
    "results = run_knn()"
   ]
  }
 ],
 "metadata": {
  "kernelspec": {
   "display_name": "Python [Root]",
   "language": "python",
   "name": "Python [Root]"
  },
  "language_info": {
   "codemirror_mode": {
    "name": "ipython",
    "version": 3
   },
   "file_extension": ".py",
   "mimetype": "text/x-python",
   "name": "python",
   "nbconvert_exporter": "python",
   "pygments_lexer": "ipython3",
   "version": "3.5.2"
  }
 },
 "nbformat": 4,
 "nbformat_minor": 0
}
